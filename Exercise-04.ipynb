{
 "cells": [
  {
   "cell_type": "code",
   "execution_count": 1,
   "metadata": {},
   "outputs": [
    {
     "name": "stdout",
     "output_type": "stream",
     "text": [
      "Karisa Arfina Ratri\n",
      "I0322061\n",
      "B\n"
     ]
    }
   ],
   "source": [
    "print(input(\"Nama: \"))\n",
    "print(input(\"NIM: \"))\n",
    "print(input(\"Kelas: \"))"
   ]
  },
  {
   "attachments": {},
   "cell_type": "markdown",
   "metadata": {},
   "source": [
    "## 1."
   ]
  },
  {
   "attachments": {},
   "cell_type": "markdown",
   "metadata": {},
   "source": [
    "Buatlah program yang meminta input string dari user, kemudian program akan menentukan string tersebut adalah palyndrome atau bukan.<br>\n",
    "* Palyndrome adalah kata atau kalimat yang jika dibalik hasilnya sama\n",
    "* kasur rusak adalah palyndrome\n",
    "\n",
    "> *note: Kerjakan soal ini dengan percabangan*"
   ]
  },
  {
   "cell_type": "code",
   "execution_count": 5,
   "metadata": {},
   "outputs": [
    {
     "name": "stdout",
     "output_type": "stream",
     "text": [
      "kodok merupakan contoh kata palyndrome\n"
     ]
    }
   ],
   "source": [
    "# Kerjakan soal no 1 di sini\n",
    "kata = input(\"masukkan kata palyndrome:\")\n",
    "palyndrome = kata[::-1]\n",
    "\n",
    "if kata == palyndrome:\n",
    "    print(kata, \"merupakan contoh kata palyndrome\")\n",
    "else:\n",
    "    print(kata, \"merupakan bukan kata palyndrome\")"
   ]
  },
  {
   "attachments": {},
   "cell_type": "markdown",
   "metadata": {},
   "source": [
    "## 2."
   ]
  },
  {
   "attachments": {},
   "cell_type": "markdown",
   "metadata": {},
   "source": [
    "Buatlah program yang meminta input berupa tahun dan bulan kemudian tampilkan jumlah hari pada bulan tersebut (perbedaan pada tahun kabisat).<br>\n",
    "\n",
    "> *note: Kerjakan soal ini dengan percabangan*"
   ]
  },
  {
   "cell_type": "code",
   "execution_count": 10,
   "metadata": {},
   "outputs": [
    {
     "name": "stdout",
     "output_type": "stream",
     "text": [
      "jumlah hari pada bulan februari tahun 2024 adalah 29\n"
     ]
    }
   ],
   "source": [
    "# Kerjakan soal no 2 di sini\n",
    "tahun = int(input(\"masukkan tahun:\"))\n",
    "bulan_1 = str(input(\"masukkan nama bulan:\"))\n",
    "bulan_2 = bulan_1.lower()\n",
    "periksa = {\n",
    "    'tahun kabisat':{\n",
    "    'januari':31,\n",
    "    'februari':29, \n",
    "    'maret':31,\n",
    "    'april':30,\n",
    "    'mei':31,\n",
    "    'juni':30,\n",
    "    'juli':31, \n",
    "    'agustus':31, \n",
    "    'september':30, \n",
    "    'oktober':31, \n",
    "    'november':30, \n",
    "    'desember':31},\n",
    "    \n",
    "    'tahun normal':{\n",
    "    'januari':31,\n",
    "    'februari':28, \n",
    "    'maret':31,\n",
    "    'april':30,\n",
    "    'mei':31,\n",
    "    'juni':30,\n",
    "    'juli':31, \n",
    "    'agustus':31, \n",
    "    'september':30, \n",
    "    'oktober':31, \n",
    "    'november':30, \n",
    "    'desember':31}\n",
    "}\n",
    "if tahun%4 == 0 and (tahun % 100 != 0 or tahun % 400 == 0):\n",
    "    print('jumlah hari pada bulan', bulan_1,'tahun', tahun, 'adalah', periksa['tahun kabisat'][bulan_2])\n",
    "else:\n",
    "    print('jumlah hari pada bulan', bulan_1,'tahun', tahun, 'adalah', periksa['tahun normal'][bulan_2])"
   ]
  }
 ],
 "metadata": {
  "kernelspec": {
   "display_name": "Python 3",
   "language": "python",
   "name": "python3"
  },
  "language_info": {
   "codemirror_mode": {
    "name": "ipython",
    "version": 3
   },
   "file_extension": ".py",
   "mimetype": "text/x-python",
   "name": "python",
   "nbconvert_exporter": "python",
   "pygments_lexer": "ipython3",
   "version": "3.11.2"
  },
  "orig_nbformat": 4
 },
 "nbformat": 4,
 "nbformat_minor": 2
}
