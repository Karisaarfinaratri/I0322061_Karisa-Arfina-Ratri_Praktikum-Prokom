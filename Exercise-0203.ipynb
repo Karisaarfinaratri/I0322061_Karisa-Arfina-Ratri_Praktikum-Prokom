{
 "cells": [
  {
   "cell_type": "code",
   "execution_count": 1,
   "metadata": {},
   "outputs": [
    {
     "name": "stdout",
     "output_type": "stream",
     "text": [
      "Karisa Arfina Ratri\n",
      "I0322061\n",
      "B\n"
     ]
    }
   ],
   "source": [
    "print(input(\"Nama: \"))\n",
    "print(input(\"NIM: \"))\n",
    "print(input(\"Kelas: \"))"
   ]
  },
  {
   "attachments": {},
   "cell_type": "markdown",
   "metadata": {},
   "source": [
    "## 1."
   ]
  },
  {
   "attachments": {},
   "cell_type": "markdown",
   "metadata": {},
   "source": [
    "* **A** Hitunglah luas Prisma Segitiga dengan ketentuan sebagai berikut:\n",
    "    * Alas dan tutup prisma merupakan segitiga\n",
    "    * Terdapat 3 persegi panjang yang menyinggung alas dan tutup prisma\n",
    "    * Sisi persegi panjang yang menyinggung segitiga adalah sisi lebar\n",
    "```python\n",
    "    dictionary_figure = {\"Persegi\":{\"Sisi\":22},\n",
    "                        \"Persegi Panjang\":{\"Panjang\":10,\"Lebar\":5},\n",
    "                        \"Segitiga Sama Sisi\":{\"Sisi\":6,\"Tinggi\":3**(1/2) * 3},\n",
    "                        \"Lingkaran\":{\"Diameter\":7}}\n",
    "```\n",
    "* **B** Hitunglah luas Tabung dengan ketentuan sebagai berikut:\n",
    "    * Alas dan tutup tabung merupakan lingkaran\n",
    "    * Terdapat 1 persegi yang menyinggung alas dan tutup tabung\n",
    "    * Persegi yang ada mengelilingi lingkaran hingga sisi dari persegi saling bertemu\n",
    "\n",
    "> **note:** *Pada soal ini kalian hanya boleh menggunakan key-value pair dan index pada list. Tidak diperbolehkan menulis secara langsung dimensi dari figure*"
   ]
  },
  {
   "cell_type": "code",
   "execution_count": 1,
   "metadata": {},
   "outputs": [
    {
     "name": "stdout",
     "output_type": "stream",
     "text": [
      "Luas Permukaan Prisma Segitiga adalah (a*t/2)*2 + (p*l)*3 = 181.18\n",
      "Luas Permukaan Tabung Lingkaran adalah (pi*(d**2)/4) + (pi*d*s) = 38.5\n"
     ]
    }
   ],
   "source": [
    "dictionary_figure = {\"Persegi\": {\"Sisi\": 22},\n",
    "                     \"Persegi Panjang\": {\"Panjang\": 10, \"Lebar\": 5},\n",
    "                     \"Segitiga Sama Sisi\":{\"Sisi\":6,\"Tinggi\":3**(1/2)*3},\n",
    "                     \"Lingkaran\":{\"Diameter\":7}}\n",
    "\n",
    "a = (dictionary_figure[\"Segitiga Sama Sisi\"][\"Sisi\"])\n",
    "t = (dictionary_figure[\"Segitiga Sama Sisi\"][\"Tinggi\"])\n",
    "p = (dictionary_figure[\"Persegi Panjang\"][\"Panjang\"])\n",
    "l = (dictionary_figure[\"Persegi Panjang\"][\"Lebar\"])\n",
    "d = (dictionary_figure[\"Lingkaran\"][\"Diameter\"])\n",
    "s = (dictionary_figure[\"Persegi\"][\"Sisi\"])\n",
    "pi= 22/7\n",
    "\n",
    "Luas_Prisma_Segitiga = (a*t/2)*2 + (p*l)*3\n",
    "print(\"Luas Permukaan Prisma Segitiga adalah\", \"(a*t/2)*2 + (p*l)*3 =\", round(Luas_Prisma_Segitiga,2))\n",
    "Luas_Tabung = (pi*(d**2)/4)\n",
    "print(\"Luas Permukaan Tabung Lingkaran adalah\",\"(pi*(d**2)/4) + (pi*d*s) =\", round(Luas_Tabung,2))"
   ]
  },
  {
   "attachments": {},
   "cell_type": "markdown",
   "metadata": {},
   "source": [
    "## 2."
   ]
  },
  {
   "attachments": {},
   "cell_type": "markdown",
   "metadata": {},
   "source": [
    "Diberikan List sebagai berikut\n",
    "```Python\n",
    "    data = [8, 8, 4, 6, 8, 9, 6, 5, 4, 7]\n",
    "```\n",
    "* Tambahkan 3 angka baru ke dalam list\n",
    "* Tampilkan output list dengan berurutan dari yang terkecil hingga yang terbesar\n",
    "* Tentukan mean, median, dan modus pada list baru"
   ]
  },
  {
   "cell_type": "code",
   "execution_count": 3,
   "metadata": {},
   "outputs": [
    {
     "name": "stdout",
     "output_type": "stream",
     "text": [
      "Urutan List data tersebut adalah [4, 4, 4, 5, 5, 6, 6, 6, 7, 8, 8, 8, 9]\n",
      "Mean yang didapat adalah 6.153846153846154\n",
      "Median yang didapat adalah 6\n",
      "Modus yang didapat adalah 4\n"
     ]
    }
   ],
   "source": [
    "a1 = int(input(\"Masukkan angka pertama\"))\n",
    "a2 = int(input(\"Masukkan angka Kedua\"))\n",
    "a3 = int(input(\"Masukkan angka Ketiga\"))\n",
    "a4 = [8, 8, 4, 6, 8, 9, 6, 5, 4, 7]\n",
    "\n",
    "a5 = [a1,a2,a3] \n",
    "a4.extend(a5)\n",
    "a4.sort ()\n",
    "print(\"Urutan List data tersebut adalah\", a4)\n",
    "#mean\n",
    "m1 = (sum(a4))/13 \n",
    "#median\n",
    "m2 = a4[6] \n",
    "#modus\n",
    "m3 = max(a4, key=a4.count) \n",
    "print (\"Mean yang didapat adalah\", m1)\n",
    "print (\"Median yang didapat adalah\", m2)\n",
    "print (\"Modus yang didapat adalah\", m3)"
   ]
  },
  {
   "attachments": {},
   "cell_type": "markdown",
   "metadata": {},
   "source": [
    "## 3. "
   ]
  },
  {
   "attachments": {},
   "cell_type": "markdown",
   "metadata": {},
   "source": [
    "Dalam pembuatan SIM ada beberapa syarat yang harus dipenuhi bagi para pembuat SIM yaitu:\n",
    "1. Pembuat SIM harus memiliki usia setidaknya 17 tahun\n",
    "2. Pembuat SIM lulus dalam tes kesehatan\n",
    "3. Pembuat SIM lulus dalam uji psikotes\n",
    "4. Pembuat SIM telah mengikuti ujian tertulis dengan nilai setidaknya 70\n",
    "5. Pembuat SIM lulus dalam simulasi berkendara\n",
    "6. Apabila pembuat SIM memiliki surat rekomendasi dari kursus berkendara maka pembuat SIM akan mendapatkan SIM (mengabaikan poin 1-5 apabila poin ke-6 terpenuhi)\n",
    "\n",
    "Buatlah input yang membuat setiap poin menjadi variabel. Output yang dihasilkan merupakan \"True\" apabila pembuat berhak mendapatkan SIM dan \"False\" apabila pembuat tidak berhak mendapatkan SIM.\n",
    "\n",
    "> **note:** *Tidak perlu menggunakan loops dalam membuat programnya*"
   ]
  },
  {
   "cell_type": "code",
   "execution_count": 2,
   "metadata": {},
   "outputs": [
    {
     "name": "stdout",
     "output_type": "stream",
     "text": [
      "True\n"
     ]
    }
   ],
   "source": [
    "umur = input(\"Umur: \")\n",
    "tes_kesehatan = input(\"Lulus Tes Kesehatan (ya/tidak): \")\n",
    "psikotes = input(\"Lulus Uji Psikotes (ya/tidak): \")\n",
    "nilai_ujian = input(\"Nilai Ujian Tertulis: \")\n",
    "lulus_simulasi = input(\"Lulus Simulasi Berkendara (ya/tidak): \")\n",
    "surat_rekomendasi = input(\"Memiliki surat rekomendasi dari kursus berkendara (ya/tidak): \")\n",
    "\n",
    "print((int(umur) >= 17 and tes_kesehatan == 'ya' and psikotes == 'ya' and int(nilai_ujian) >= 70 and lulus_simulasi == 'ya') or surat_rekomendasi == 'ya')"
   ]
  }
 ],
 "metadata": {
  "kernelspec": {
   "display_name": "Python 3",
   "language": "python",
   "name": "python3"
  },
  "language_info": {
   "codemirror_mode": {
    "name": "ipython",
    "version": 3
   },
   "file_extension": ".py",
   "mimetype": "text/x-python",
   "name": "python",
   "nbconvert_exporter": "python",
   "pygments_lexer": "ipython3",
   "version": "3.11.2"
  },
  "orig_nbformat": 4,
  "vscode": {
   "interpreter": {
    "hash": "5addf786bcd861d1ce5006f23111f8cbb206731e5b61b0a5632ba9e0252558a8"
   }
  }
 },
 "nbformat": 4,
 "nbformat_minor": 2
}
