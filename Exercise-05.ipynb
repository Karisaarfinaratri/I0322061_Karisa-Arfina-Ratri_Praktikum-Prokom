{
 "cells": [
  {
   "attachments": {},
   "cell_type": "markdown",
   "metadata": {},
   "source": [
    "1. Diberikan List sebagai berikut!"
   ]
  },
  {
   "cell_type": "code",
   "execution_count": null,
   "metadata": {},
   "outputs": [],
   "source": [
    "list1 = ['a','b','c']\n",
    "list1 = ['c','d','e']"
   ]
  },
  {
   "attachments": {},
   "cell_type": "markdown",
   "metadata": {},
   "source": [
    "Buatlah program pengulangan untuk menampilkan elemen dalam kedua list tersebut yang sama! (Contoh Output \"Nilai yang sama adalah 'C'\")"
   ]
  },
  {
   "cell_type": "code",
   "execution_count": 11,
   "metadata": {},
   "outputs": [
    {
     "name": "stdout",
     "output_type": "stream",
     "text": [
      "nilai yang sama adalah: c\n"
     ]
    }
   ],
   "source": [
    "# Kerjakan nomor 1 di sini\n",
    "list1 = ['a','b','c']\n",
    "list2 = ['c','d','e']\n",
    "for huruf in list1:\n",
    "    if huruf in list2:\n",
    "        print('nilai yang sama adalah:', huruf)"
   ]
  },
  {
   "attachments": {},
   "cell_type": "markdown",
   "metadata": {},
   "source": [
    "2. Buatlah sebuah list yang berisi daftar mata kuliah di Teknik Industri UNS (minimal 10 matkul). Kemudian buat program pencarian menggunakan pengulangan. Apabila nama matkul yang user inputkan sudah sesuai dengan isi list maka program akan berhenti dan menampilkan output \"Mata Kuliah (matkul yang diinput user) adalah mata kuliah di Teknik Industri UNS\"."
   ]
  },
  {
   "cell_type": "code",
   "execution_count": 10,
   "metadata": {},
   "outputs": [
    {
     "name": "stdout",
     "output_type": "stream",
     "text": [
      "Mata Kuliah psikologi industri adalah mata kuliah di Teknik industri UNS\n"
     ]
    }
   ],
   "source": [
    "# Kerjakan nomor 2 di sini\n",
    "makul =[\"analisis dan estimasi biaya\",\n",
    "         \"biologi\",\n",
    "         \"fisiska dasar\",\n",
    "         \"kalkulus\",\n",
    "         \"material teknik\",\n",
    "         \"mekanika teknik\",\n",
    "         \"psikologi industri\",\n",
    "         \"programa komputer\",\n",
    "         \"pengantar ilmu ekonomi\",\n",
    "         \"prd\"\n",
    "]\n",
    "cari = 0\n",
    "cari1 = 3 \n",
    "while cari < cari1:\n",
    "    pencarian_makul = input(\"Masukkan nama mata kuliah:\")\n",
    "    pencarian_makul_1 = pencarian_makul.lower()\n",
    "    cari += 1\n",
    "    if pencarian_makul in makul:\n",
    "        print(\"Mata Kuliah\", pencarian_makul, \"adalah mata kuliah di Teknik industri UNS\")\n",
    "        break\n",
    "    else:\n",
    "        print(\"Mata kuliah tersebut bukan merupakan mata kuliah di Teknik Industri UNS\")"
   ]
  },
  {
   "attachments": {},
   "cell_type": "markdown",
   "metadata": {},
   "source": [
    "3. Buatlah program untuk menampilkan faktorial dari suatu bilangan dimana bilangan tersebut didapat melalui input user!"
   ]
  },
  {
   "cell_type": "code",
   "execution_count": 4,
   "metadata": {},
   "outputs": [
    {
     "name": "stdout",
     "output_type": "stream",
     "text": [
      "faktorial dari  4 adalah 24\n"
     ]
    }
   ],
   "source": [
    "# Kerjakan nomor 3 di sini\n",
    "n = int(input(\"masukkan angka:\"))\n",
    "faktorial = 1\n",
    "for i in range(1, n+1):\n",
    "    faktorial = faktorial * i\n",
    "print(\"faktorial dari \", n, \"adalah\", faktorial)"
   ]
  }
 ],
 "metadata": {
  "kernelspec": {
   "display_name": "Python 3",
   "language": "python",
   "name": "python3"
  },
  "language_info": {
   "codemirror_mode": {
    "name": "ipython",
    "version": 3
   },
   "file_extension": ".py",
   "mimetype": "text/x-python",
   "name": "python",
   "nbconvert_exporter": "python",
   "pygments_lexer": "ipython3",
   "version": "3.11.2"
  },
  "orig_nbformat": 4
 },
 "nbformat": 4,
 "nbformat_minor": 2
}
