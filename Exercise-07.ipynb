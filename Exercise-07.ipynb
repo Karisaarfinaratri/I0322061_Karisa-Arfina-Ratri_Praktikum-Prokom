{
 "cells": [
  {
   "cell_type": "code",
   "execution_count": null,
   "metadata": {},
   "outputs": [],
   "source": [
    "#Buatlah sebuah fungsi untuk membuat matrix berdasarkan input dari user\n",
    "\n",
    "def create_matrix(baris,kolom):\n",
    "    matrix = []\n",
    "\n",
    "    #Tulis kode kamu disini\n",
    "\n",
    "\n",
    "    return matrix\n",
    "\n",
    "\n",
    "baris = int(input('Masukkan Jumlah Baris:\\t'))\n",
    "kolom = int(input('Masukkan Jumlah Kolom:\\t'))\n",
    "\n",
    "create_matrix(baris,kolom)"
   ]
  },
  {
   "cell_type": "code",
   "execution_count": null,
   "metadata": {},
   "outputs": [],
   "source": [
    "#Buatlah fungsi untuk melakukan pengurangan antar dua matrix berdasarkan input user\n",
    "\n",
    "def kurang_matrix(matrixA, matrixB):\n",
    "    kurang = []\n",
    "\n",
    "    #Tulis kode kamu disini\n",
    "\n",
    "\n",
    "    return kurang\n",
    "\n",
    "\n",
    "matrixA = []\n",
    "matrixB = []\n",
    "\n",
    "\n",
    "kurang_matrix(matrixA,matrixB)\n"
   ]
  },
  {
   "cell_type": "code",
   "execution_count": null,
   "metadata": {},
   "outputs": [],
   "source": [
    "#Buatlah Fungsi untuk melakukan pembagian matrix dengan skalar berdasarkan input user\n",
    "\n",
    "def bagi_matrix(matrix1, skalar):\n",
    "    hasil = []\n",
    "\n",
    "    #Tulis kode kamu disini\n",
    "\n",
    "\n",
    "    return hasil\n",
    "\n",
    "\n",
    "\n",
    "matrix1 = []\n",
    "skalar = int(input('Matrix dibagi berapa?\\t'))\n",
    "\n",
    "\n",
    "bagi_matrix(matrix1, skalar)"
   ]
  }
 ],
 "metadata": {
  "language_info": {
   "name": "python"
  },
  "orig_nbformat": 4
 },
 "nbformat": 4,
 "nbformat_minor": 2
}
